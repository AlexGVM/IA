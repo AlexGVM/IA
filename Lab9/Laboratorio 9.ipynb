{
 "cells": [
  {
   "cell_type": "markdown",
   "metadata": {},
   "source": [
    "## ALEXANDER VILLATORO 1182118  11/4/2021 "
   ]
  },
  {
   "cell_type": "code",
   "execution_count": 1,
   "metadata": {},
   "outputs": [
    {
     "name": "stdout",
     "output_type": "stream",
     "text": [
      "[[  2   3  48  59  89  79  71  80  19  22]\n",
      " [ 74  20  16  13  74  88  61  28  11  79]\n",
      " [ 86  91  91  80  43   6  83  59 100  98]\n",
      " [ 38  37  47  48  15  17  21   6  32  88]\n",
      " [ 14  18  54  39  47  48  33  59  63  49]\n",
      " [ 98  19  59  99  26  42  77  62  25  11]\n",
      " [ 42  25  16  66   6  76  84  20  11  95]\n",
      " [  9  27  63  24  15  73  44  22  47  85]\n",
      " [ 58  37  94  24  99  70  39  46  29 100]\n",
      " [ 98  92  91  24  70  91  78  73  73  37]]\n",
      "Media aritmetica\n",
      "La media aritmetica de la matriz es 51.37\n",
      "\n",
      "Mediana\n",
      "La mediana de la matriz es 48.0\n",
      "\n",
      "Desviación típica\n",
      "La desviación típica de la matriz es 29.729330634913392\n",
      "\n",
      "Varianza\n",
      "La varianza de la matriz es 883.8331\n",
      "\n"
     ]
    }
   ],
   "source": [
    "import numpy as np\n",
    "import pandas as pd\n",
    "data = np.random.seed(2131982)\n",
    "data = np.random.randint(1,101, size=(10, 10))\n",
    "print(data)\n",
    "print(\"Media aritmetica\")\n",
    "print(\"La media aritmetica de la matriz es\", data.mean())\n",
    "print(\"\")\n",
    "print(\"Mediana\")\n",
    "print(\"La mediana de la matriz es\", np.median(data))\n",
    "print(\"\")\n",
    "print(\"Desviación típica\")\n",
    "print(\"La desviación típica de la matriz es\", data.std())\n",
    "print(\"\")\n",
    "print(\"Varianza\")\n",
    "print(\"La varianza de la matriz es\", data.var())\n",
    "print(\"\")"
   ]
  },
  {
   "cell_type": "code",
   "execution_count": 2,
   "metadata": {},
   "outputs": [
    {
     "name": "stdout",
     "output_type": "stream",
     "text": [
      "Media aritmética de cada fila\n",
      "La media aritmetica de cada fila es 0 47.2\n",
      "La media aritmetica de cada fila es 1 46.4\n",
      "La media aritmetica de cada fila es 2 73.7\n",
      "La media aritmetica de cada fila es 3 34.9\n",
      "La media aritmetica de cada fila es 4 42.4\n",
      "La media aritmetica de cada fila es 5 51.8\n",
      "La media aritmetica de cada fila es 6 44.1\n",
      "La media aritmetica de cada fila es 7 40.9\n",
      "La media aritmetica de cada fila es 8 59.6\n",
      "La media aritmetica de cada fila es 9 72.7\n",
      "\n",
      "Media aritmética de cada columna\n",
      "La media aritmética de cada columna 0 51.9\n",
      "La media aritmética de cada columna 1 36.9\n",
      "La media aritmética de cada columna 2 57.9\n",
      "La media aritmética de cada columna 3 47.6\n",
      "La media aritmética de cada columna 4 48.4\n",
      "La media aritmética de cada columna 5 59.0\n",
      "La media aritmética de cada columna 6 59.1\n",
      "La media aritmética de cada columna 7 45.5\n",
      "La media aritmética de cada columna 8 41.0\n",
      "La media aritmética de cada columna 9 66.4\n",
      "\n",
      "Desviación típica de cada fila\n",
      "La desviación típica de cada fila es 0 31.571506140822613\n",
      "La desviación típica de cada fila es 1 29.763064358362026\n",
      "La desviación típica de cada fila es 2 28.107116536564185\n",
      "La desviación típica de cada fila es 3 22.147008827378922\n",
      "La desviación típica de cada fila es 4 15.596153371905523\n",
      "La desviación típica de cada fila es 5 30.616335509005648\n",
      "La desviación típica de cada fila es 6 31.57039752679716\n",
      "La desviación típica de cada fila es 7 24.566033460858105\n",
      "La desviación típica de cada fila es 8 27.932776446318403\n",
      "La desviación típica de cada fila es 9 23.160526764303096\n",
      "\n",
      "Desviación típica de cada columna\n",
      "La desviación típica de cada columna 0 34.63654139777815\n",
      "La desviación típica de cada columna 1 28.8355683141498\n",
      "La desviación típica de cada columna 2 26.953478439711635\n",
      "La desviación típica de cada columna 3 26.650328328183875\n",
      "La desviación típica de cada columna 4 31.45218593357225\n",
      "La desviación típica de cada columna 5 28.02498884923953\n",
      "La desviación típica de cada columna 6 21.860695322884858\n",
      "La desviación típica de cada columna 7 23.77498685593748\n",
      "La desviación típica de cada columna 8 27.910571473905726\n",
      "La desviación típica de cada columna 9 31.8188623303851\n"
     ]
    }
   ],
   "source": [
    "print(\"Media aritmética de cada fila\")\n",
    "for i,fila in enumerate(data): #for de cada fila\n",
    "    print(\"La media aritmetica de cada fila es\",i,fila.mean())\n",
    "print(\"\")\n",
    "print(\"Media aritmética de cada columna\")\n",
    "suma = 0\n",
    "for j, columna in enumerate(data):\n",
    "    for k, fila in enumerate(columna):\n",
    "        if k == 9:\n",
    "            suma += data[k][j]\n",
    "            print(\"La media aritmética de cada columna\", j , suma/10)\n",
    "            suma = 0\n",
    "        else:\n",
    "            suma += data[k][j]\n",
    "print(\"\")\n",
    "print(\"Desviación típica de cada fila\")\n",
    "for i,fila in enumerate(data): #for de cada fila\n",
    "    print(\"La desviación típica de cada fila es\",i,fila.std())            \n",
    "print(\"\")\n",
    "print(\"Desviación típica de cada columna\")\n",
    "listaSuma = list()\n",
    "for j, columna in enumerate(data):\n",
    "    for k, fila in enumerate(columna):\n",
    "        if k == 9:\n",
    "            listaSuma.append(data[k][j])\n",
    "            arr = np.array(listaSuma)\n",
    "            print(\"La desviación típica de cada columna\", j , arr.std())\n",
    "            listaSuma.clear()\n",
    "        else:\n",
    "            listaSuma.append(data[k][j])"
   ]
  },
  {
   "cell_type": "code",
   "execution_count": 3,
   "metadata": {},
   "outputs": [
    {
     "name": "stdout",
     "output_type": "stream",
     "text": [
      "Varianza de cada fila\n",
      "La Varianza de cada fila es 0 996.76\n",
      "La Varianza de cada fila es 1 885.8399999999999\n",
      "La Varianza de cada fila es 2 790.0099999999999\n",
      "La Varianza de cada fila es 3 490.48999999999995\n",
      "La Varianza de cada fila es 4 243.24\n",
      "La Varianza de cada fila es 5 937.36\n",
      "La Varianza de cada fila es 6 996.6900000000002\n",
      "La Varianza de cada fila es 7 603.49\n",
      "La Varianza de cada fila es 8 780.2400000000001\n",
      "La Varianza de cada fila es 9 536.4100000000001\n",
      "\n",
      "Varianza de cada columna\n",
      "La desviación típica de cada columna 0 1199.6899999999998\n",
      "La desviación típica de cada columna 1 831.49\n",
      "La desviación típica de cada columna 2 726.49\n",
      "La desviación típica de cada columna 3 710.24\n",
      "La desviación típica de cada columna 4 989.24\n",
      "La desviación típica de cada columna 5 785.4\n",
      "La desviación típica de cada columna 6 477.89\n",
      "La desviación típica de cada columna 7 565.25\n",
      "La desviación típica de cada columna 8 779.0\n",
      "La desviación típica de cada columna 9 1012.4399999999999\n"
     ]
    }
   ],
   "source": [
    "print(\"Varianza de cada fila\")\n",
    "for i,fila in enumerate(data): #for de cada fila\n",
    "    print(\"La Varianza de cada fila es\",i,fila.var())            \n",
    "print(\"\")\n",
    "print(\"Varianza de cada columna\")\n",
    "listaSuma = list()\n",
    "for j, columna in enumerate(data):\n",
    "    for k, fila in enumerate(columna):\n",
    "        if k == 9:\n",
    "            listaSuma.append(data[k][j])\n",
    "            arr = np.array(listaSuma)\n",
    "            print(\"La desviación típica de cada columna\", j , arr.var())\n",
    "            listaSuma.clear()\n",
    "        else:\n",
    "            listaSuma.append(data[k][j])"
   ]
  },
  {
   "cell_type": "code",
   "execution_count": 4,
   "metadata": {},
   "outputs": [
    {
     "data": {
      "text/html": [
       "<div>\n",
       "<style scoped>\n",
       "    .dataframe tbody tr th:only-of-type {\n",
       "        vertical-align: middle;\n",
       "    }\n",
       "\n",
       "    .dataframe tbody tr th {\n",
       "        vertical-align: top;\n",
       "    }\n",
       "\n",
       "    .dataframe thead th {\n",
       "        text-align: right;\n",
       "    }\n",
       "</style>\n",
       "<table border=\"1\" class=\"dataframe\">\n",
       "  <thead>\n",
       "    <tr style=\"text-align: right;\">\n",
       "      <th></th>\n",
       "      <th>0</th>\n",
       "      <th>1</th>\n",
       "      <th>2</th>\n",
       "      <th>3</th>\n",
       "      <th>4</th>\n",
       "      <th>5</th>\n",
       "      <th>6</th>\n",
       "      <th>7</th>\n",
       "      <th>8</th>\n",
       "      <th>9</th>\n",
       "    </tr>\n",
       "  </thead>\n",
       "  <tbody>\n",
       "    <tr>\n",
       "      <th>count</th>\n",
       "      <td>10.00000</td>\n",
       "      <td>10.000000</td>\n",
       "      <td>10.000000</td>\n",
       "      <td>10.000000</td>\n",
       "      <td>10.000000</td>\n",
       "      <td>10.000000</td>\n",
       "      <td>10.000000</td>\n",
       "      <td>10.000000</td>\n",
       "      <td>10.000000</td>\n",
       "      <td>10.000000</td>\n",
       "    </tr>\n",
       "    <tr>\n",
       "      <th>mean</th>\n",
       "      <td>51.90000</td>\n",
       "      <td>36.900000</td>\n",
       "      <td>57.900000</td>\n",
       "      <td>47.600000</td>\n",
       "      <td>48.400000</td>\n",
       "      <td>59.000000</td>\n",
       "      <td>59.100000</td>\n",
       "      <td>45.500000</td>\n",
       "      <td>41.000000</td>\n",
       "      <td>66.400000</td>\n",
       "    </tr>\n",
       "    <tr>\n",
       "      <th>std</th>\n",
       "      <td>36.51012</td>\n",
       "      <td>30.395358</td>\n",
       "      <td>28.411461</td>\n",
       "      <td>28.091913</td>\n",
       "      <td>33.153515</td>\n",
       "      <td>29.540932</td>\n",
       "      <td>23.043196</td>\n",
       "      <td>25.061037</td>\n",
       "      <td>29.420326</td>\n",
       "      <td>33.540026</td>\n",
       "    </tr>\n",
       "    <tr>\n",
       "      <th>min</th>\n",
       "      <td>2.00000</td>\n",
       "      <td>3.000000</td>\n",
       "      <td>16.000000</td>\n",
       "      <td>13.000000</td>\n",
       "      <td>6.000000</td>\n",
       "      <td>6.000000</td>\n",
       "      <td>21.000000</td>\n",
       "      <td>6.000000</td>\n",
       "      <td>11.000000</td>\n",
       "      <td>11.000000</td>\n",
       "    </tr>\n",
       "    <tr>\n",
       "      <th>25%</th>\n",
       "      <td>20.00000</td>\n",
       "      <td>19.250000</td>\n",
       "      <td>47.250000</td>\n",
       "      <td>24.000000</td>\n",
       "      <td>17.750000</td>\n",
       "      <td>43.500000</td>\n",
       "      <td>40.250000</td>\n",
       "      <td>23.500000</td>\n",
       "      <td>20.500000</td>\n",
       "      <td>40.000000</td>\n",
       "    </tr>\n",
       "    <tr>\n",
       "      <th>50%</th>\n",
       "      <td>50.00000</td>\n",
       "      <td>26.000000</td>\n",
       "      <td>56.500000</td>\n",
       "      <td>43.500000</td>\n",
       "      <td>45.000000</td>\n",
       "      <td>71.500000</td>\n",
       "      <td>66.000000</td>\n",
       "      <td>52.500000</td>\n",
       "      <td>30.500000</td>\n",
       "      <td>82.000000</td>\n",
       "    </tr>\n",
       "    <tr>\n",
       "      <th>75%</th>\n",
       "      <td>83.00000</td>\n",
       "      <td>37.000000</td>\n",
       "      <td>84.000000</td>\n",
       "      <td>64.250000</td>\n",
       "      <td>73.000000</td>\n",
       "      <td>78.250000</td>\n",
       "      <td>77.750000</td>\n",
       "      <td>61.250000</td>\n",
       "      <td>59.000000</td>\n",
       "      <td>93.250000</td>\n",
       "    </tr>\n",
       "    <tr>\n",
       "      <th>max</th>\n",
       "      <td>98.00000</td>\n",
       "      <td>92.000000</td>\n",
       "      <td>94.000000</td>\n",
       "      <td>99.000000</td>\n",
       "      <td>99.000000</td>\n",
       "      <td>91.000000</td>\n",
       "      <td>84.000000</td>\n",
       "      <td>80.000000</td>\n",
       "      <td>100.000000</td>\n",
       "      <td>100.000000</td>\n",
       "    </tr>\n",
       "  </tbody>\n",
       "</table>\n",
       "</div>"
      ],
      "text/plain": [
       "              0          1          2          3          4          5  \\\n",
       "count  10.00000  10.000000  10.000000  10.000000  10.000000  10.000000   \n",
       "mean   51.90000  36.900000  57.900000  47.600000  48.400000  59.000000   \n",
       "std    36.51012  30.395358  28.411461  28.091913  33.153515  29.540932   \n",
       "min     2.00000   3.000000  16.000000  13.000000   6.000000   6.000000   \n",
       "25%    20.00000  19.250000  47.250000  24.000000  17.750000  43.500000   \n",
       "50%    50.00000  26.000000  56.500000  43.500000  45.000000  71.500000   \n",
       "75%    83.00000  37.000000  84.000000  64.250000  73.000000  78.250000   \n",
       "max    98.00000  92.000000  94.000000  99.000000  99.000000  91.000000   \n",
       "\n",
       "               6          7           8           9  \n",
       "count  10.000000  10.000000   10.000000   10.000000  \n",
       "mean   59.100000  45.500000   41.000000   66.400000  \n",
       "std    23.043196  25.061037   29.420326   33.540026  \n",
       "min    21.000000   6.000000   11.000000   11.000000  \n",
       "25%    40.250000  23.500000   20.500000   40.000000  \n",
       "50%    66.000000  52.500000   30.500000   82.000000  \n",
       "75%    77.750000  61.250000   59.000000   93.250000  \n",
       "max    84.000000  80.000000  100.000000  100.000000  "
      ]
     },
     "execution_count": 4,
     "metadata": {},
     "output_type": "execute_result"
    }
   ],
   "source": [
    "dm = pd.DataFrame(data)\n",
    "dm.describe()"
   ]
  },
  {
   "cell_type": "markdown",
   "metadata": {},
   "source": [
    "## ¿Son coherentes los datos entre Numpy y Pandas?\n",
    "En el caso de la media los datos se son coherentes, si se tiene una relacion entre si, pero en el caso de std(Desviación típica) se da a notas que los datos no son conherentes, ya que existe una diferencia de entre el .describe y el std. "
   ]
  },
  {
   "cell_type": "markdown",
   "metadata": {},
   "source": [
    "## REDES BAYESIANAS ##"
   ]
  },
  {
   "cell_type": "code",
   "execution_count": 5,
   "metadata": {},
   "outputs": [],
   "source": [
    "import pyAgrum as gum"
   ]
  },
  {
   "cell_type": "code",
   "execution_count": 6,
   "metadata": {},
   "outputs": [
    {
     "name": "stdout",
     "output_type": "stream",
     "text": [
      "BN{nodes: 0, arcs: 0, domainSize: 1, dim: 0}\n"
     ]
    }
   ],
   "source": [
    "bn = gum.BayesNet() #llama a bayes\n",
    "print(bn)"
   ]
  },
  {
   "cell_type": "code",
   "execution_count": 7,
   "metadata": {},
   "outputs": [
    {
     "name": "stdout",
     "output_type": "stream",
     "text": [
      "0 1 2 3 4\n",
      "BN{nodes: 5, arcs: 0, domainSize: 32, dim: 10}\n"
     ]
    }
   ],
   "source": [
    "b,e,j,m,a = [bn.add(name,2)for name in \"bejma\"]\n",
    "print(b,e,j,m,a)\n",
    "print(bn)"
   ]
  },
  {
   "cell_type": "code",
   "execution_count": 8,
   "metadata": {},
   "outputs": [],
   "source": [
    "bn.addArc(b,a) \n",
    "bn.addArc(e,a)\n",
    "bn.addArc(a,j)\n",
    "bn.addArc(a,m)"
   ]
  },
  {
   "cell_type": "code",
   "execution_count": 9,
   "metadata": {},
   "outputs": [
    {
     "name": "stdout",
     "output_type": "stream",
     "text": [
      "BN{nodes: 5, arcs: 4, domainSize: 32, dim: 20}\n"
     ]
    }
   ],
   "source": [
    "print(bn)"
   ]
  },
  {
   "cell_type": "code",
   "execution_count": 10,
   "metadata": {},
   "outputs": [
    {
     "data": {
      "text/plain": [
       "(gum::Potential<double>@0x26b4d9bb650) \n",
       "  b                |\n",
       "0        |1        |\n",
       "---------|---------|\n",
       " 0.9990  | 0.0010  |"
      ]
     },
     "execution_count": 10,
     "metadata": {},
     "output_type": "execute_result"
    }
   ],
   "source": [
    "bn.cpt(b).fillWith([0.999,0.001]) #false,verdadero"
   ]
  },
  {
   "cell_type": "code",
   "execution_count": 11,
   "metadata": {},
   "outputs": [
    {
     "data": {
      "text/plain": [
       "(gum::Potential<double>@0x26b4d9bd110) \n",
       "  e                |\n",
       "0        |1        |\n",
       "---------|---------|\n",
       " 0.9980  | 0.0020  |"
      ]
     },
     "execution_count": 11,
     "metadata": {},
     "output_type": "execute_result"
    }
   ],
   "source": [
    "bn.cpt(e).fillWith([0.998,0.002])"
   ]
  },
  {
   "cell_type": "code",
   "execution_count": 12,
   "metadata": {},
   "outputs": [],
   "source": [
    "bn.cpt(a)[{'b':0,'e':0}] = [0.999,0.001]\n",
    "bn.cpt(a)[{'b':0,'e':1}] = [0.71,0.29]\n",
    "bn.cpt(a)[{'b':1,'e':0}] = [0.06,0.94]\n",
    "bn.cpt(a)[{'b':1,'e':1}] = [0.05,0.95]"
   ]
  },
  {
   "cell_type": "code",
   "execution_count": 13,
   "metadata": {},
   "outputs": [
    {
     "name": "stdout",
     "output_type": "stream",
     "text": [
      "\n",
      "             ||  a                |\n",
      "b     |e     ||0        |1        |\n",
      "------|------||---------|---------|\n",
      "0     |0     || 0.9990  | 0.0010  |\n",
      "1     |0     || 0.0600  | 0.9400  |\n",
      "0     |1     || 0.7100  | 0.2900  |\n",
      "1     |1     || 0.0500  | 0.9500  |\n",
      "\n"
     ]
    }
   ],
   "source": [
    "print(bn.cpt(a))"
   ]
  },
  {
   "cell_type": "code",
   "execution_count": 14,
   "metadata": {},
   "outputs": [
    {
     "name": "stdout",
     "output_type": "stream",
     "text": [
      "\n",
      "      ||  j                |\n",
      "a     ||0        |1        |\n",
      "------||---------|---------|\n",
      "0     || 0.9500  | 0.0500  |\n",
      "1     || 0.1000  | 0.9000  |\n",
      "\n"
     ]
    }
   ],
   "source": [
    "bn.cpt(j)[{'a':1}] = [0.1,0.9]\n",
    "bn.cpt(j)[{'a':0}] = [0.95,0.05]\n",
    "print(bn.cpt(j))"
   ]
  },
  {
   "cell_type": "code",
   "execution_count": 15,
   "metadata": {},
   "outputs": [
    {
     "data": {
      "text/plain": [
       "(gum::Potential<double>@0x26b4d9bdd80) \n",
       "      ||  m                |\n",
       "a     ||0        |1        |\n",
       "------||---------|---------|\n",
       "0     || 0.9900  | 0.0100  |\n",
       "1     || 0.3000  | 0.7000  |"
      ]
     },
     "execution_count": 15,
     "metadata": {},
     "output_type": "execute_result"
    }
   ],
   "source": [
    "bn.cpt(m)[{'a':1}] = [0.3,0.7]\n",
    "bn.cpt(m)[{'a':0}] = [0.99,0.01]\n",
    "bn.cpt(m)"
   ]
  },
  {
   "cell_type": "code",
   "execution_count": 16,
   "metadata": {},
   "outputs": [],
   "source": [
    "ie = gum.LazyPropagation(bn)"
   ]
  },
  {
   "cell_type": "markdown",
   "metadata": {},
   "source": [
    "**$P(m)$**"
   ]
  },
  {
   "cell_type": "code",
   "execution_count": 17,
   "metadata": {},
   "outputs": [
    {
     "name": "stdout",
     "output_type": "stream",
     "text": [
      "\n",
      "  m                |\n",
      "0        |1        |\n",
      "---------|---------|\n",
      " 0.9883  | 0.0117  |\n",
      "\n"
     ]
    }
   ],
   "source": [
    "ie.makeInference()\n",
    "print(ie.posterior(m))"
   ]
  },
  {
   "cell_type": "markdown",
   "metadata": {},
   "source": [
    "**$P(+b,-e,+a,-j,+m)$**"
   ]
  },
  {
   "cell_type": "code",
   "execution_count": 18,
   "metadata": {},
   "outputs": [
    {
     "data": {
      "text/plain": [
       "0.94"
      ]
     },
     "execution_count": 18,
     "metadata": {},
     "output_type": "execute_result"
    }
   ],
   "source": [
    "#P(+a|+b,-e)\n",
    "ie.setEvidence({'b':1,'e':0})\n",
    "ie.makeInference()\n",
    "Pabe = ie.posterior(a)[1]\n",
    "Pabe"
   ]
  },
  {
   "cell_type": "code",
   "execution_count": 19,
   "metadata": {},
   "outputs": [
    {
     "data": {
      "text/plain": [
       "0.1"
      ]
     },
     "execution_count": 19,
     "metadata": {},
     "output_type": "execute_result"
    }
   ],
   "source": [
    "#P(-j|+a)\n",
    "ie.setEvidence({'a':1})\n",
    "ie.makeInference()\n",
    "Pja = ie.posterior(j)[0]\n",
    "Pja"
   ]
  },
  {
   "cell_type": "code",
   "execution_count": 20,
   "metadata": {},
   "outputs": [
    {
     "data": {
      "text/plain": [
       "0.7"
      ]
     },
     "execution_count": 20,
     "metadata": {},
     "output_type": "execute_result"
    }
   ],
   "source": [
    "#P(+m|+a)\n",
    "ie.setEvidence({'a':1})\n",
    "ie.makeInference()\n",
    "Pma = ie.posterior(m)[1]\n",
    "Pma"
   ]
  },
  {
   "cell_type": "code",
   "execution_count": 21,
   "metadata": {},
   "outputs": [
    {
     "data": {
      "text/plain": [
       "0.001"
      ]
     },
     "execution_count": 21,
     "metadata": {},
     "output_type": "execute_result"
    }
   ],
   "source": [
    "#P(+b)\n",
    "Pb = bn.cpt(b)[1] #probabilidad definida\n",
    "Pb"
   ]
  },
  {
   "cell_type": "code",
   "execution_count": 22,
   "metadata": {},
   "outputs": [
    {
     "data": {
      "text/plain": [
       "0.998"
      ]
     },
     "execution_count": 22,
     "metadata": {},
     "output_type": "execute_result"
    }
   ],
   "source": [
    "#P(-e)\n",
    "Pe = bn.cpt(e)[0]\n",
    "Pe"
   ]
  },
  {
   "cell_type": "code",
   "execution_count": 23,
   "metadata": {},
   "outputs": [
    {
     "name": "stdout",
     "output_type": "stream",
     "text": [
      "El resultado es: 6.56684e-05\n"
     ]
    }
   ],
   "source": [
    "Resultado = Pabe * Pja * Pma * Pb * Pe\n",
    "print(\"El resultado es:\", Resultado)"
   ]
  },
  {
   "cell_type": "markdown",
   "metadata": {},
   "source": [
    "**$P(m |+b,+a)$**\n",
    "## Variables\n",
    "* H = e,j\n",
    "* Q = m\n",
    "* E = b,a"
   ]
  },
  {
   "cell_type": "code",
   "execution_count": 24,
   "metadata": {},
   "outputs": [
    {
     "data": {
      "text/plain": [
       "(gum::Potential<double>@0x26b4d9bde80) \n",
       "  m                |\n",
       "0        |1        |\n",
       "---------|---------|\n",
       " 0.3000  | 0.7000  |"
      ]
     },
     "execution_count": 24,
     "metadata": {},
     "output_type": "execute_result"
    }
   ],
   "source": [
    "ie.setEvidence({'b':1,'a':1})\n",
    "ie.makeInference()\n",
    "ie.posterior(m)"
   ]
  }
 ],
 "metadata": {
  "kernelspec": {
   "display_name": "Python 3",
   "language": "python",
   "name": "python3"
  },
  "language_info": {
   "codemirror_mode": {
    "name": "ipython",
    "version": 3
   },
   "file_extension": ".py",
   "mimetype": "text/x-python",
   "name": "python",
   "nbconvert_exporter": "python",
   "pygments_lexer": "ipython3",
   "version": "3.8.5"
  }
 },
 "nbformat": 4,
 "nbformat_minor": 4
}
